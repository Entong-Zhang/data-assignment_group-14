{
 "cells": [
  {
   "cell_type": "code",
   "execution_count": null,
   "id": "62ee27c5",
   "metadata": {
    "lines_to_next_cell": 0
   },
   "outputs": [],
   "source": []
  },
  {
   "cell_type": "code",
   "execution_count": null,
   "id": "a6cca185",
   "metadata": {},
   "outputs": [],
   "source": [
    "import pandas as pd\n",
    "import plotly.express as px\n",
    "import statsmodels.api as sm\n",
    "import webbrowser"
   ]
  },
  {
   "cell_type": "code",
   "execution_count": null,
   "id": "6788b65a",
   "metadata": {},
   "outputs": [],
   "source": [
    "file_path = \"C:\\\\Users\\\\38670\\\\Documents\\\\Documents\\\\2020-2023 青年失业率及季度 GDP_转置.xlsx\"\n",
    "data = pd.read_excel(file_path, sheet_name='Sheet1')"
   ]
  },
  {
   "cell_type": "code",
   "execution_count": null,
   "id": "632f7c67",
   "metadata": {},
   "outputs": [],
   "source": [
    "data.columns = ['Time', 'GDP', 'Youth Unemployment Rate', 'Source']\n",
    "data = data.drop(columns=['Source']).drop(0)\n",
    "data['GDP'] = pd.to_numeric(data['GDP'], errors='coerce')\n",
    "data['Youth Unemployment Rate'] = pd.to_numeric(data['Youth Unemployment Rate'], errors='coerce')\n",
    "data.dropna(inplace=True)"
   ]
  },
  {
   "cell_type": "code",
   "execution_count": null,
   "id": "22c1e1f0",
   "metadata": {
    "lines_to_next_cell": 1
   },
   "outputs": [],
   "source": [
    "#  时间升序排列并计算GDP增长率\n",
    "data = data[::-1].reset_index(drop=True)\n",
    "data['GDP Growth Rate (%)'] = data['GDP'].pct_change() * 100\n",
    "data.dropna(inplace=True)"
   ]
  },
  {
   "cell_type": "code",
   "execution_count": null,
   "id": "12cb4a9e",
   "metadata": {
    "lines_to_next_cell": 1
   },
   "outputs": [],
   "source": [
    "def convert_quarter_label(label):\n",
    "    year = label[:4]\n",
    "    quarter_map = {\n",
    "        '第一季度': 'Q1',\n",
    "        '第二季度': 'Q2',\n",
    "        '第三季度': 'Q3',\n",
    "        '第四季度': 'Q4',\n",
    "    }\n",
    "    quarter = label[-4:]\n",
    "    return year + quarter_map.get(quarter, '')"
   ]
  },
  {
   "cell_type": "code",
   "execution_count": null,
   "id": "5bb090f7",
   "metadata": {},
   "outputs": [],
   "source": [
    "data['Abbr Time'] = data['Time'].apply(convert_quarter_label)\n",
    "data['Year'] = data['Time'].str[:4]"
   ]
  },
  {
   "cell_type": "code",
   "execution_count": null,
   "id": "3d6c6d58",
   "metadata": {},
   "outputs": [],
   "source": [
    "color_map = {\n",
    "    '2020': 'red',\n",
    "    '2021': 'green',\n",
    "    '2022': 'blue',\n",
    "    '2023': 'orange'\n",
    "}\n",
    "data['Color'] = data['Year'].map(color_map)"
   ]
  },
  {
   "cell_type": "code",
   "execution_count": null,
   "id": "ec601196",
   "metadata": {},
   "outputs": [],
   "source": [
    "#  计算整体回归线\n",
    "X = data['GDP Growth Rate (%)']\n",
    "y = data['Youth Unemployment Rate']\n",
    "X_const = sm.add_constant(X)\n",
    "model = sm.OLS(y, X_const).fit()\n",
    "slope = model.params['GDP Growth Rate (%)']\n",
    "intercept = model.params['const']\n",
    "r2 = model.rsquared\n",
    "regression_text = f\"Regression: y = {intercept:.2f} + {slope:.2f}x<br>R² = {r2:.3f}\""
   ]
  },
  {
   "cell_type": "code",
   "execution_count": null,
   "id": "1ae70bc2",
   "metadata": {},
   "outputs": [],
   "source": [
    "fig = px.scatter(\n",
    "    data,\n",
    "    x='GDP Growth Rate (%)',\n",
    "    y='Youth Unemployment Rate',\n",
    "    text='Abbr Time',\n",
    "    hover_data={'Time': True, 'GDP Growth Rate (%)': ':.2f', 'Youth Unemployment Rate': ':.2f'},\n",
    "    trendline=\"ols\",\n",
    "    trendline_color_override=\"black\",\n",
    "    labels={\n",
    "        'GDP Growth Rate (%)': 'GDP Growth Rate (%)',\n",
    "        'Youth Unemployment Rate': 'Youth Unemployment Rate (%)',\n",
    "    },\n",
    "    title='Youth Unemployment Rate vs GDP Growth Rate (2020-2023)'\n",
    ")"
   ]
  },
  {
   "cell_type": "code",
   "execution_count": null,
   "id": "d530c602",
   "metadata": {},
   "outputs": [],
   "source": [
    "fig.for_each_trace(\n",
    "    lambda trace: trace.update(marker=dict(color=data['Color']) if trace.mode == 'markers' else {})\n",
    ")"
   ]
  },
  {
   "cell_type": "code",
   "execution_count": null,
   "id": "020ec765",
   "metadata": {},
   "outputs": [],
   "source": [
    "# 添加图注、公式\n",
    "fig.update_traces(textposition='top center')\n",
    "fig.update_layout(\n",
    "    title_font_size=20,\n",
    "    xaxis_title='GDP Growth Rate (%)',\n",
    "    yaxis_title='Youth Unemployment Rate (%)',\n",
    "    showlegend=False,\n",
    "    annotations=[\n",
    "        dict(\n",
    "            text=\"Note: '2020Q1' means Q1 of 2020; Data Source: National Bureau of Statistics of China\",\n",
    "            xref=\"paper\", yref=\"paper\",\n",
    "            x=0, y=-0.27, showarrow=False,\n",
    "            font=dict(size=12)\n",
    "        ),\n",
    "        dict(\n",
    "            text=regression_text,\n",
    "            xref=\"paper\", yref=\"paper\",\n",
    "            x=0.5, y=1.05, showarrow=False,\n",
    "            font=dict(size=13),\n",
    "            align=\"center\"\n",
    "        )\n",
    "    ],\n",
    "    margin=dict(b=130)\n",
    ")"
   ]
  },
  {
   "cell_type": "code",
   "execution_count": null,
   "id": "460e836e",
   "metadata": {},
   "outputs": [],
   "source": [
    "html_file_path = 'scatter_plot.html'\n",
    "fig.write_html(html_file_path)\n",
    "webbrowser.open_new_tab(html_file_path)"
   ]
  }
 ],
 "metadata": {
  "jupytext": {
   "cell_metadata_filter": "-all",
   "main_language": "python",
   "notebook_metadata_filter": "-all"
  }
 },
 "nbformat": 4,
 "nbformat_minor": 5
}

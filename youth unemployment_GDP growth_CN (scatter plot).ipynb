{
 "cells": [
  {
   "cell_type": "code",
   "execution_count": null,
   "id": "82b4884f",
   "metadata": {},
   "outputs": [],
   "source": [
    "import pandas as pd\n",
    "import plotly.express as px\n",
    "import statsmodels.api as sm\n",
    "import webbrowser"
   ]
  },
  {
   "cell_type": "code",
   "execution_count": null,
   "id": "f5fb0507",
   "metadata": {},
   "outputs": [],
   "source": [
    "file_path =\"C:\\\\Users\\\\38670\\\\Documents\\\\Documents\\\\2020-2023 青年失业率及季度 GDP_转置.xlsx\"\n",
    "data = pd.read_excel(file_path, sheet_name='Sheet1')"
   ]
  },
  {
   "cell_type": "code",
   "execution_count": null,
   "id": "cbd3bb57",
   "metadata": {},
   "outputs": [],
   "source": [
    "data.columns = ['时间点', 'GDP', '青年失业率', '数据来源']\n",
    "data = data.drop(columns=['数据来源']).drop(0)\n",
    "data['GDP'] = pd.to_numeric(data['GDP'], errors='coerce')\n",
    "data['青年失业率'] = pd.to_numeric(data['青年失业率'], errors='coerce')\n",
    "data.dropna(inplace=True)"
   ]
  },
  {
   "cell_type": "code",
   "execution_count": null,
   "id": "2f77d952",
   "metadata": {
    "lines_to_next_cell": 1
   },
   "outputs": [],
   "source": [
    "# 时间升序排列并计算GDP增长率\n",
    "data = data[::-1].reset_index(drop=True)\n",
    "data['GDP增长率(%)'] = data['GDP'].pct_change() * 100\n",
    "data.dropna(inplace=True)"
   ]
  },
  {
   "cell_type": "code",
   "execution_count": null,
   "id": "819e7847",
   "metadata": {
    "lines_to_next_cell": 1
   },
   "outputs": [],
   "source": [
    "def convert_quarter_label(label):\n",
    "    year = label[:4]\n",
    "    quarter_map = {\n",
    "        '第一季度': 'S1',\n",
    "        '第二季度': 'S2',\n",
    "        '第三季度': 'S3',\n",
    "        '第四季度': 'S4',\n",
    "    }\n",
    "    quarter = label[-4:]\n",
    "    return year + quarter_map.get(quarter, '')"
   ]
  },
  {
   "cell_type": "code",
   "execution_count": null,
   "id": "ac480d89",
   "metadata": {},
   "outputs": [],
   "source": [
    "data['时间缩写'] = data['时间点'].apply(convert_quarter_label)\n",
    "data['年份'] = data['时间点'].str[:4]"
   ]
  },
  {
   "cell_type": "code",
   "execution_count": null,
   "id": "75be83d6",
   "metadata": {},
   "outputs": [],
   "source": [
    "color_map = {\n",
    "    '2020': 'red',\n",
    "    '2021': 'green',\n",
    "    '2022': 'blue',\n",
    "    '2023': 'orange'\n",
    "}\n",
    "data['颜色'] = data['年份'].map(color_map)"
   ]
  },
  {
   "cell_type": "code",
   "execution_count": null,
   "id": "8406670e",
   "metadata": {},
   "outputs": [],
   "source": [
    "# 计算整体回归线\n",
    "X = data['GDP增长率(%)']\n",
    "y = data['青年失业率']\n",
    "X_const = sm.add_constant(X)\n",
    "model = sm.OLS(y, X_const).fit()\n",
    "slope = model.params['GDP增长率(%)']\n",
    "intercept = model.params['const']\n",
    "r2 = model.rsquared\n",
    "regression_text = f\"回归方程：y = {intercept:.2f} + {slope:.2f}x<br>R² = {r2:.3f}\""
   ]
  },
  {
   "cell_type": "code",
   "execution_count": null,
   "id": "6e1d091a",
   "metadata": {},
   "outputs": [],
   "source": [
    "fig = px.scatter(\n",
    "    data,\n",
    "    x='GDP增长率(%)',\n",
    "    y='青年失业率',\n",
    "    text='时间缩写',\n",
    "    hover_data={'时间点': True, 'GDP增长率(%)': ':.2f', '青年失业率': ':.2f'},\n",
    "    trendline=\"ols\",\n",
    "    trendline_color_override=\"black\",\n",
    "    labels={\n",
    "        'GDP增长率(%)': 'GDP增长率 (%)',\n",
    "        '青年失业率': '青年失业率 (%)',\n",
    "    },\n",
    "    title='2020-2023年青年失业率与GDP增长率关系分析'\n",
    ")"
   ]
  },
  {
   "cell_type": "code",
   "execution_count": null,
   "id": "3e803781",
   "metadata": {},
   "outputs": [],
   "source": [
    "fig.for_each_trace(\n",
    "    lambda trace: trace.update(marker=dict(color=data['颜色']) if trace.mode == 'markers' else {})\n",
    ")"
   ]
  },
  {
   "cell_type": "code",
   "execution_count": null,
   "id": "0bd0b4fd",
   "metadata": {},
   "outputs": [],
   "source": [
    "# 添加图注、公式\n",
    "fig.update_traces(textposition='top center')\n",
    "fig.update_layout(\n",
    "    title_font_size=20,\n",
    "    xaxis_title='GDP增长率 (%)',\n",
    "    yaxis_title='青年失业率 (%)',\n",
    "    showlegend=False,\n",
    "    annotations=[\n",
    "        dict(\n",
    "            text=\"注：季度命名如“2020S1”代表2020年第一季度；数据来源：国家统计局\",\n",
    "            xref=\"paper\", yref=\"paper\",\n",
    "            x=0, y=-0.27, showarrow=False,\n",
    "            font=dict(size=12)\n",
    "        ),\n",
    "        dict(\n",
    "            text=regression_text,\n",
    "            xref=\"paper\", yref=\"paper\",\n",
    "            x=0.5, y=1.05, showarrow=False,\n",
    "            font=dict(size=13),\n",
    "            align=\"center\"\n",
    "        )\n",
    "    ],\n",
    "    margin=dict(b=130)\n",
    ")"
   ]
  },
  {
   "cell_type": "code",
   "execution_count": null,
   "id": "a2572633",
   "metadata": {},
   "outputs": [],
   "source": [
    "html_file_path = '散点图.html'\n",
    "fig.write_html(html_file_path)\n",
    "webbrowser.open_new_tab(html_file_path)"
   ]
  }
 ],
 "metadata": {
  "jupytext": {
   "cell_metadata_filter": "-all",
   "main_language": "python",
   "notebook_metadata_filter": "-all"
  }
 },
 "nbformat": 4,
 "nbformat_minor": 5
}

{
 "cells": [
  {
   "cell_type": "code",
   "execution_count": null,
   "id": "7a5f2ec3",
   "metadata": {},
   "outputs": [],
   "source": [
    "import pandas as pd\n",
    "import plotly.express as px\n",
    "import statsmodels.api as sm\n",
    "import numpy as np\n",
    "import webbrowser"
   ]
  },
  {
   "cell_type": "markdown",
   "id": "c04560b9",
   "metadata": {},
   "source": [
    "========== 1. 读取数据 =========="
   ]
  },
  {
   "cell_type": "code",
   "execution_count": null,
   "id": "0f957e08",
   "metadata": {},
   "outputs": [],
   "source": [
    "file_path = \"C:\\\\Users\\\\bryennt\\\\Desktop\\\\2020-2023青年失业率及季度GDP.xlsx\"\n",
    "data = pd.read_excel(file_path, sheet_name='Sheet1')"
   ]
  },
  {
   "cell_type": "code",
   "execution_count": null,
   "id": "115fa5c7",
   "metadata": {},
   "outputs": [],
   "source": [
    "# 改：统一列名为中文\n",
    "data.columns = ['时间点', 'GDP', '青年失业率']\n",
    "data['GDP'] = pd.to_numeric(data['GDP'], errors='coerce')\n",
    "data['青年失业率'] = pd.to_numeric(data['青年失业率'], errors='coerce')"
   ]
  },
  {
   "cell_type": "code",
   "execution_count": null,
   "id": "d0039d7d",
   "metadata": {},
   "outputs": [],
   "source": [
    "# 时间升序排列并计算GDP增长率\n",
    "data = data[::-1].reset_index(drop=True)\n",
    "data['GDP增长率(%)'] = data['GDP'].pct_change() * 100"
   ]
  },
  {
   "cell_type": "code",
   "execution_count": null,
   "id": "c6103209",
   "metadata": {},
   "outputs": [],
   "source": [
    "# 取对数变换，避免负值\n",
    "constant = 10  # 避免负值\n",
    "data['log_GDP增长率'] = np.log(data['GDP增长率(%)'] + constant)"
   ]
  },
  {
   "cell_type": "code",
   "execution_count": null,
   "id": "9032305c",
   "metadata": {},
   "outputs": [],
   "source": [
    "data.replace([np.inf, -np.inf], np.nan, inplace=True)\n",
    "data = data.dropna()\n",
    "# ========== 2. 增加时间缩写、年份等辅助信息 =========="
   ]
  },
  {
   "cell_type": "code",
   "execution_count": null,
   "id": "fed401ac",
   "metadata": {
    "lines_to_next_cell": 1
   },
   "outputs": [],
   "source": [
    "def convert_quarter_label(label):\n",
    "    year = label[:4]\n",
    "    quarter_map = {\n",
    "        '第一季度': 'S1',\n",
    "        '第二季度': 'S2',\n",
    "        '第三季度': 'S3',\n",
    "        '第四季度': 'S4',\n",
    "    }\n",
    "    quarter = label[-4:]\n",
    "    return year + quarter_map.get(quarter, '')"
   ]
  },
  {
   "cell_type": "code",
   "execution_count": null,
   "id": "dc38e48f",
   "metadata": {},
   "outputs": [],
   "source": [
    "data['时间缩写'] = data['时间点'].apply(convert_quarter_label)\n",
    "data['年份'] = data['时间点'].str[:4]"
   ]
  },
  {
   "cell_type": "markdown",
   "id": "c7dbd9c3",
   "metadata": {},
   "source": [
    "========== 3. 模型改进：使用对数 GDP 进行 OLS 回归 =========="
   ]
  },
  {
   "cell_type": "code",
   "execution_count": null,
   "id": "40fdfe7f",
   "metadata": {},
   "outputs": [],
   "source": [
    "# 1) 使用 log_GDP增长率 作为自变量\n",
    "data['log_GDP_Year_Interaction'] = data['log_GDP增长率'] * data['年份'].astype(int)"
   ]
  },
  {
   "cell_type": "code",
   "execution_count": null,
   "id": "ac7bab81",
   "metadata": {},
   "outputs": [],
   "source": [
    "# 2) 使用 statsmodels 做多元 OLS 回归（包含 log GDP 增长率和交互项）\n",
    "X = data[['log_GDP增长率', 'log_GDP_Year_Interaction']]\n",
    "y = data['青年失业率']\n",
    "X_const = sm.add_constant(X)\n",
    "model = sm.OLS(y, X_const).fit()"
   ]
  },
  {
   "cell_type": "code",
   "execution_count": null,
   "id": "94b11837",
   "metadata": {},
   "outputs": [],
   "source": [
    "# 3) 提取回归系数和 R²\n",
    "intercept = model.params['const']\n",
    "coef_log_gdp = model.params['log_GDP增长率']\n",
    "coef_interaction = model.params['log_GDP_Year_Interaction']\n",
    "r2 = model.rsquared"
   ]
  },
  {
   "cell_type": "code",
   "execution_count": null,
   "id": "c1c2346b",
   "metadata": {},
   "outputs": [],
   "source": [
    "# 4) 生成回归方程文字（改为英文）\n",
    "regression_text = (\n",
    "    f\"Regression Equation: y = {intercept:.2f} + {coef_log_gdp:.2f}·log(x) + {coef_interaction:.2f}·(log(x)·year)<br>\"\n",
    "    f\"R² = {r2:.3f}\"\n",
    ")"
   ]
  },
  {
   "cell_type": "markdown",
   "id": "9557fe10",
   "metadata": {},
   "source": [
    "========== 4. 绘制散点图（使用年份分色） =========="
   ]
  },
  {
   "cell_type": "code",
   "execution_count": null,
   "id": "7ee799df",
   "metadata": {},
   "outputs": [],
   "source": [
    "# 用 plotly.express 的 scatter，并用 color 区分年份\n",
    "fig = px.scatter(\n",
    "    data,\n",
    "    x='log_GDP增长率',\n",
    "    y='青年失业率',\n",
    "    color='年份',               # 按“年份”分色\n",
    "    text='时间缩写',\n",
    "    hover_data={\n",
    "        '时间点': True,\n",
    "        'log_GDP增长率': ':.2f',\n",
    "        '青年失业率': ':.2f',\n",
    "        '年份': True\n",
    "    },\n",
    "    labels={\n",
    "        'log_GDP增长率': 'Log of GDP Growth Rate',\n",
    "        '青年失业率': 'Youth Unemployment Rate (%)',\n",
    "        '年份': 'Year'\n",
    "    },\n",
    "    title='2020-2023 Youth Unemployment Rate vs Log GDP Growth Rate Analysis'\n",
    ")"
   ]
  },
  {
   "cell_type": "markdown",
   "id": "85664946",
   "metadata": {},
   "source": [
    "========== 5. 手动添加回归直线到图中 =========="
   ]
  },
  {
   "cell_type": "code",
   "execution_count": null,
   "id": "24e7ff91",
   "metadata": {},
   "outputs": [],
   "source": [
    "# 1) 生成一组平滑的 x 值\n",
    "x_range = np.linspace(data['log_GDP增长率'].min(), data['log_GDP增长率'].max(), 100)\n",
    "# 2) 计算 y_hat\n",
    "X_pred = sm.add_constant(pd.DataFrame({\n",
    "    'log_GDP增长率': x_range,\n",
    "    'log_GDP_Year_Interaction': x_range * data['年份'].astype(int).mean()\n",
    "}))\n",
    "y_pred = model.predict(X_pred)"
   ]
  },
  {
   "cell_type": "code",
   "execution_count": null,
   "id": "be91c8fa",
   "metadata": {},
   "outputs": [],
   "source": [
    "# 3) 将回归曲线添加到图中\n",
    "fig.add_scatter(\n",
    "    x=x_range,\n",
    "    y=y_pred,\n",
    "    mode='lines',\n",
    "    line=dict(color='black'),\n",
    "    name='Regression Line'\n",
    ")"
   ]
  },
  {
   "cell_type": "markdown",
   "id": "e30d756f",
   "metadata": {},
   "source": [
    "========== 6. 更新布局：英文标签 + 图注美化 + 显示图例 =========="
   ]
  },
  {
   "cell_type": "code",
   "execution_count": null,
   "id": "38d922c4",
   "metadata": {},
   "outputs": [],
   "source": [
    "fig.update_traces(textposition='top center')\n",
    "fig.update_layout(\n",
    "    title_font_size=20,\n",
    "    xaxis_title='Log of GDP Growth Rate',\n",
    "    yaxis_title='Youth Unemployment Rate (%)',\n",
    "    showlegend=True,  # 显示图例，区分不同年份\n",
    "    annotations=[\n",
    "        dict(\n",
    "            text=\"Note: Quarter naming such as '2020S1' indicates the first quarter of 2020; Data source: National Bureau of Statistics\",\n",
    "            xref=\"paper\", yref=\"paper\",\n",
    "            x=0, y=-0.15, showarrow=False,\n",
    "            font=dict(size=12)\n",
    "        ),\n",
    "        dict(\n",
    "            text=regression_text,\n",
    "            xref=\"paper\", yref=\"paper\",\n",
    "            x=0.5, y=1.05, showarrow=False,\n",
    "            font=dict(size=13),\n",
    "            align=\"center\"\n",
    "        )\n",
    "    ],\n",
    "    margin=dict(l=60, r=60, t=100, b=120)  # 加大底部、顶部留白，让图注更美观\n",
    ")"
   ]
  },
  {
   "cell_type": "markdown",
   "id": "e18d6167",
   "metadata": {},
   "source": [
    "========== 7. 导出 HTML 并自动打开 =========="
   ]
  },
  {
   "cell_type": "code",
   "execution_count": null,
   "id": "325adb78",
   "metadata": {},
   "outputs": [],
   "source": [
    "html_file_path = \"C:\\\\Users\\\\bryennt\\\\Desktop\\\\original.html\"\n",
    "fig.write_html(html_file_path)\n",
    "webbrowser.open_new_tab(html_file_path)"
   ]
  },
  {
   "cell_type": "markdown",
   "id": "c86116ca",
   "metadata": {},
   "source": [
    "========== 8. 输出修改说明 =========="
   ]
  },
  {
   "cell_type": "code",
   "execution_count": null,
   "id": "768bf4af",
   "metadata": {},
   "outputs": [],
   "source": [
    "print(\"Modification Details:\")\n",
    "print(\"1. Replaced GDP growth rate with log-transformed GDP growth rate in the regression model.\")\n",
    "print(\"2. Updated regression equation and visualization accordingly.\")"
   ]
  }
 ],
 "metadata": {
  "jupytext": {
   "cell_metadata_filter": "-all",
   "main_language": "python",
   "notebook_metadata_filter": "-all"
  }
 },
 "nbformat": 4,
 "nbformat_minor": 5
}

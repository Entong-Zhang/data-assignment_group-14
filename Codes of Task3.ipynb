{
 "cells": [
  {
   "cell_type": "code",
   "execution_count": null,
   "id": "5e721b6b",
   "metadata": {},
   "outputs": [],
   "source": [
    "import pandas as pd\n",
    "import numpy as np\n",
    "from scipy.stats import skew, kurtosis\n",
    "from statsmodels.tsa.filters.hp_filter import hpfilter\n",
    "import matplotlib.pyplot as plt"
   ]
  },
  {
   "cell_type": "code",
   "execution_count": null,
   "id": "caa41e83",
   "metadata": {},
   "outputs": [],
   "source": [
    "try:\n",
    "    # 尝试使用GBK编码读取文件\n",
    "    china_data = pd.read_csv('china_economic_data.csv', encoding='GBK')\n",
    "except UnicodeDecodeError:\n",
    "    try:\n",
    "        # 若GBK编码失败，尝试使用GB2312编码\n",
    "        china_data = pd.read_csv('china_economic_data.csv', encoding='GB2312')\n",
    "    except UnicodeDecodeError:\n",
    "        print(\"无法确定文件编码格式，请手动检查文件编码。\")\n",
    "        exit(1)"
   ]
  },
  {
   "cell_type": "code",
   "execution_count": null,
   "id": "a1463f0e",
   "metadata": {},
   "outputs": [],
   "source": [
    "# 重新设置列名\n",
    "china_data.columns = ['Indicator', '2023', '2022', '2021', '2020', '2019', '2018', '2017', '2016', '2015',\n",
    "                      '2014', '2013', '2012', '2011', '2010', '2009', '2008', '2007', '2006',\n",
    "                      '2005', '2004', '2003', '2002', '2001', '2000', '1999', '1998', '1997',\n",
    "                      '1996', '1995', '1994', '1993', '1992', '1991', '1990', '1989', '1988',\n",
    "                      '1987', '1986', '1985', '1984', '1983', '1982', '1981', '1980', '1979',\n",
    "                      '1978']"
   ]
  },
  {
   "cell_type": "code",
   "execution_count": null,
   "id": "d2be30a9",
   "metadata": {},
   "outputs": [],
   "source": [
    "# 从第2行(index = 1)开始加载数据\n",
    "china_data = china_data[1:]"
   ]
  },
  {
   "cell_type": "code",
   "execution_count": null,
   "id": "322d3afb",
   "metadata": {},
   "outputs": [],
   "source": [
    "# 重置索引\n",
    "china_data = china_data.reset_index(drop=True)"
   ]
  },
  {
   "cell_type": "code",
   "execution_count": null,
   "id": "c77c40a3",
   "metadata": {},
   "outputs": [],
   "source": [
    "# 将除了`指标`列以外的列转换为数值类型\n",
    "for col in china_data.columns[1:]:\n",
    "    china_data[col] = pd.to_numeric(china_data[col], errors='coerce')"
   ]
  },
  {
   "cell_type": "code",
   "execution_count": null,
   "id": "31c15fda",
   "metadata": {},
   "outputs": [],
   "source": [
    "# 处理可能存在的空值数据，删除含有过多空值的行或列（可根据实际情况调整）\n",
    "china_data = china_data.dropna(how='all')\n",
    "china_data = china_data.dropna(axis=1, thresh=len(china_data) * 0.5)"
   ]
  },
  {
   "cell_type": "code",
   "execution_count": null,
   "id": "1f5b8e25",
   "metadata": {},
   "outputs": [],
   "source": [
    "# 转置数据，使得指标为列名，年份为索引\n",
    "china_data = china_data.set_index('Indicator').T"
   ]
  },
  {
   "cell_type": "code",
   "execution_count": null,
   "id": "44041074",
   "metadata": {},
   "outputs": [],
   "source": [
    "# 计算每个指标的描述性统计\n",
    "stats = {}\n",
    "for col in china_data.columns:\n",
    "    values = china_data[col].dropna()\n",
    "    if len(values) > 0:\n",
    "        mean = values.mean()\n",
    "        median = values.median()\n",
    "        std_dev = values.std()\n",
    "        min_val = values.min()\n",
    "        max_val = values.max()\n",
    "        skewness = skew(values)\n",
    "        kurt_value = kurtosis(values)\n",
    "        stats[col] = {\n",
    "            'Mean': mean,\n",
    "            'Median': median,\n",
    "            'Standard Deviation': std_dev,\n",
    "            'Minimum': min_val,\n",
    "            'Maximum': max_val,\n",
    "            'Skewness': skewness,\n",
    "            'Kurtosis': kurt_value\n",
    "        }\n",
    "    else:\n",
    "        stats[col] = {\n",
    "            'Mean': np.nan,\n",
    "            'Median': np.nan,\n",
    "            'Standard Deviation': np.nan,\n",
    "            'Minimum': np.nan,\n",
    "            'Maximum': np.nan,\n",
    "            'Skewness': np.nan,\n",
    "            'Kurtosis': np.nan\n",
    "        }"
   ]
  },
  {
   "cell_type": "code",
   "execution_count": null,
   "id": "227c2b23",
   "metadata": {},
   "outputs": [],
   "source": [
    "# 输出每个指标的描述性统计\n",
    "for col, stat in stats.items():\n",
    "    print(f\"Descriptive statistics for indicator {col}:\")\n",
    "    for key, value in stat.items():\n",
    "        print(f\"{key}: {value}\")\n",
    "    print()"
   ]
  },
  {
   "cell_type": "code",
   "execution_count": null,
   "id": "05c9324c",
   "metadata": {},
   "outputs": [],
   "source": [
    "# 提取中国实际GDP数据\n",
    "real_gdp = china_data['国内实际生产总值（亿元）']\n",
    "real_gdp.index = pd.to_datetime(real_gdp.index.str.replace('年', ''), format='%Y')\n",
    "real_gdp = real_gdp.sort_index()"
   ]
  },
  {
   "cell_type": "code",
   "execution_count": null,
   "id": "e8662dfe",
   "metadata": {},
   "outputs": [],
   "source": [
    "# 计算中国实际GDP的10年滚动标准差\n",
    "rolling_std = real_gdp.rolling(window=10).std()\n",
    "print(\"10-year rolling standard deviation of China's real GDP:\")\n",
    "print(rolling_std)"
   ]
  },
  {
   "cell_type": "code",
   "execution_count": null,
   "id": "1340a410",
   "metadata": {},
   "outputs": [],
   "source": [
    "# 设置图片中文字体\n",
    "plt.rcParams['font.sans-serif'] = ['SimHei']\n",
    "plt.rcParams['axes.unicode_minus'] = False"
   ]
  },
  {
   "cell_type": "code",
   "execution_count": null,
   "id": "d7b65575",
   "metadata": {},
   "outputs": [],
   "source": [
    "# 绘制中国实际GDP的10年滚动标准差图\n",
    "plt.figure(figsize=(12, 6))\n",
    "plt.plot(rolling_std.index, rolling_std.values, label='10-Year Rolling Standard Deviation of China Real GDP')\n",
    "plt.title('10-Year Rolling Standard Deviation of China Real GDP')\n",
    "plt.xlabel('Year')\n",
    "plt.xticks(rotation=45)\n",
    "plt.ylabel('Standard Deviation')\n",
    "plt.legend()\n",
    "plt.show()"
   ]
  },
  {
   "cell_type": "code",
   "execution_count": null,
   "id": "7371d4b3",
   "metadata": {},
   "outputs": [],
   "source": [
    "# 读取美国GDP数据\n",
    "try:\n",
    "    usa_data = pd.read_excel('usa数据（经过转换后）工作簿1.xlsx', engine='openpyxl')\n",
    "    if usa_data.shape[1] == 2:\n",
    "        usa_data.columns = ['year', 'RGDP_CNY']\n",
    "        usa_data['year'] = pd.to_datetime(usa_data['year'], format='%Y')\n",
    "        usa_data = usa_data.set_index('year')\n",
    "    else:\n",
    "        print(f\"The number of columns in the US data is {usa_data.shape[1]}, which does not match the expected 2 columns. Please check the data file.\")\n",
    "        exit(1)\n",
    "except FileNotFoundError:\n",
    "    print(\"The file 'usa数据（经过转换后）工作簿1.xlsx' was not found. Please check the file path.\")\n",
    "    exit(1)\n",
    "except Exception as e:\n",
    "    print(f\"An error occurred while reading the US GDP data: {e}\")\n",
    "    exit(1)"
   ]
  },
  {
   "cell_type": "code",
   "execution_count": null,
   "id": "2a633276",
   "metadata": {},
   "outputs": [],
   "source": [
    "# 确保中美数据时间范围一致\n",
    "common_index = real_gdp.index.intersection(usa_data.index)\n",
    "real_gdp = real_gdp[common_index]\n",
    "usa_gdp = usa_data.loc[common_index, 'RGDP_CNY']"
   ]
  },
  {
   "cell_type": "code",
   "execution_count": null,
   "id": "05bcc090",
   "metadata": {},
   "outputs": [],
   "source": [
    "# 确保中美数据没有缺失值，否则可能影响Hodrick - Prescott滤波\n",
    "real_gdp = real_gdp.dropna()\n",
    "usa_gdp = usa_gdp.dropna()"
   ]
  },
  {
   "cell_type": "code",
   "execution_count": null,
   "id": "110564b7",
   "metadata": {},
   "outputs": [],
   "source": [
    "# 应用Hodrick - Prescott滤波器将美国和中国的GDP分解为趋势和周期性成分\n",
    "lambda_value = 1600\n",
    "china_cycle, china_trend = hpfilter(real_gdp, lamb=lambda_value)\n",
    "usa_cycle, usa_trend = hpfilter(usa_gdp, lamb=lambda_value)"
   ]
  },
  {
   "cell_type": "code",
   "execution_count": null,
   "id": "690e6c11",
   "metadata": {},
   "outputs": [],
   "source": [
    "# 绘制中美GDP周期成分图\n",
    "plt.figure(figsize=(12, 6))\n",
    "plt.plot(china_cycle.index, china_cycle.values, label=\"China's GDP Cyclical Component\")\n",
    "plt.plot(usa_cycle.index, usa_cycle.values, label='US GDP Cyclical Component')\n",
    "plt.xlabel('Year')\n",
    "plt.xticks(rotation=45)\n",
    "plt.ylabel('Cyclical Component')\n",
    "plt.title('Cyclical Components of China and US GDP')\n",
    "plt.legend()\n",
    "plt.show()"
   ]
  },
  {
   "cell_type": "code",
   "execution_count": null,
   "id": "0b4167ca",
   "metadata": {},
   "outputs": [],
   "source": [
    "# 计算中美GDP周期成分的相关系数\n",
    "correlation = china_cycle.corr(usa_gdp)\n",
    "print(f\"Overall correlation coefficient of the cyclical components of China and US GDP: {correlation}\")"
   ]
  },
  {
   "cell_type": "code",
   "execution_count": null,
   "id": "674a1b18",
   "metadata": {},
   "outputs": [],
   "source": [
    "# 计算2000年、2008年、2015年前后的相关系数\n",
    "years = [2000, 2008, 2015]\n",
    "correlation_stats = {}\n",
    "for year in years:\n",
    "    before_china = china_cycle[china_cycle.index < f'{year}-01-01']\n",
    "    before_usa = usa_gdp[usa_gdp.index < f'{year}-01-01']\n",
    "    after_china = china_cycle[china_cycle.index >= f'{year}-01-01']\n",
    "    after_usa = usa_gdp[usa_gdp.index >= f'{year}-01-01']\n",
    "\n",
    "    if len(before_china) > 0 and len(before_usa) > 0:\n",
    "        correlation_before = before_china.corr(before_usa)\n",
    "        print(f\"Correlation coefficient of the cyclical components of China and US GDP before {year}: {correlation_before}\")\n",
    "        correlation_stats[f'Before {year}'] = correlation_before\n",
    "    else:\n",
    "        print(f\"Insufficient data before {year} to calculate the correlation coefficient.\")\n",
    "        correlation_stats[f'Before {year}'] = np.nan\n",
    "\n",
    "    if len(after_china) > 0 and len(after_usa) > 0:\n",
    "        correlation_after = after_china.corr(after_usa)\n",
    "        print(f\"Correlation coefficient of the cyclical components of China and US GDP after {year}: {correlation_after}\")\n",
    "        correlation_stats[f'After {year}'] = correlation_after\n",
    "    else:\n",
    "        print(f\"Insufficient data after {year} to calculate the correlation coefficient.\")\n",
    "        correlation_stats[f'After {year}'] = np.nan\n",
    "    print()"
   ]
  },
  {
   "cell_type": "code",
   "execution_count": null,
   "id": "903961c7",
   "metadata": {},
   "outputs": [],
   "source": [
    "# 将描述性统计结果转换为DataFrame\n",
    "desc_stats_df = pd.DataFrame(stats).T"
   ]
  },
  {
   "cell_type": "code",
   "execution_count": null,
   "id": "24ee3b71",
   "metadata": {},
   "outputs": [],
   "source": [
    "# 将中美周期成分转换为DataFrame\n",
    "cycle_df = pd.DataFrame({\n",
    "    'China GDP Cyclical Component': china_cycle,\n",
    "    'US GDP Cyclical Component': usa_cycle\n",
    "})"
   ]
  },
  {
   "cell_type": "code",
   "execution_count": null,
   "id": "11ba6dea",
   "metadata": {},
   "outputs": [],
   "source": [
    "# 将相关系数结果转换为DataFrame\n",
    "correlation_df = pd.DataFrame.from_dict(correlation_stats, orient='index', columns=['Correlation Coefficient'])\n",
    "correlation_df.loc['Overall Correlation Coefficient'] = correlation"
   ]
  },
  {
   "cell_type": "code",
   "execution_count": null,
   "id": "8651a3ea",
   "metadata": {},
   "outputs": [],
   "source": [
    "# 导出到Excel文件\n",
    "with pd.ExcelWriter('4economic_stats.xlsx') as writer:\n",
    "    desc_stats_df.to_excel(writer, sheet_name='Descriptive Statistics')\n",
    "    cycle_df.to_excel(writer, sheet_name='China-US Cyclical Components')\n",
    "    correlation_df.to_excel(writer, sheet_name='Correlation Coefficients')\n",
    "    rolling_std.to_excel(writer, sheet_name='10-Year Rolling Standard Deviation of China Real GDP')"
   ]
  }
 ],
 "metadata": {
  "jupytext": {
   "cell_metadata_filter": "-all",
   "main_language": "python",
   "notebook_metadata_filter": "-all"
  }
 },
 "nbformat": 4,
 "nbformat_minor": 5
}

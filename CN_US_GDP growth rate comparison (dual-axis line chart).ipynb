{
 "cells": [
  {
   "cell_type": "code",
   "execution_count": null,
   "id": "9a1a79e9",
   "metadata": {},
   "outputs": [],
   "source": [
    "import plotly.graph_objects as go\n",
    "from plotly.subplots import make_subplots\n",
    "import pandas as pd\n",
    "# 读取中国数据\n",
    "file_path_china =\"C:\\\\Users\\\\38670\\\\Documents\\\\Documents\\\\数据.xlsx\"\n",
    "df_china = pd.read_excel(file_path_china)\n",
    "# 提取年份和国内实际生产总值数据\n",
    "china_gdp = df_china[['Unnamed: 0', '国内实际生产总值（亿元）']].copy()\n",
    "china_gdp.columns = ['Year', 'Real Gross Domestic Product (100 million yuan)']\n",
    "china_gdp['Year'] = china_gdp['Year'].str.extract('(\\d+)').astype(float).astype(int)\n",
    "china_gdp['Real Gross Domestic Product (100 million yuan)'] = pd.to_numeric(china_gdp['Real Gross Domestic Product (100 million yuan)'], errors='coerce')\n",
    "china_gdp = china_gdp.sort_values(by='Year', ascending=True)\n",
    "# 计算中国实际GDP增长率\n",
    "china_gdp['China RGDP Growth'] = china_gdp['Real Gross Domestic Product (100 million yuan)'].pct_change() * 100"
   ]
  },
  {
   "cell_type": "code",
   "execution_count": null,
   "id": "1ac24ac6",
   "metadata": {},
   "outputs": [],
   "source": [
    "# 读取美国数据\n",
    "file_path_usa = \"C:\\\\Users\\\\38670\\\\Documents\\\\Documents\\\\USA数据.xlsx\"\n",
    "df_usa = pd.read_excel(file_path_usa)\n",
    "usa_gdp = df_usa[['year', 'RGDP']].copy()\n",
    "usa_gdp = usa_gdp.rename(columns={'year': 'Year', 'RGDP': 'US Real Gross Domestic Product'})\n",
    "usa_gdp['US Real Gross Domestic Product'] = pd.to_numeric(usa_gdp['US Real Gross Domestic Product'], errors='coerce')\n",
    "usa_gdp = usa_gdp.sort_values(by='Year')\n",
    "# 计算美国实际GDP增长率\n",
    "usa_gdp['US RGDP Growth'] = usa_gdp['US Real Gross Domestic Product'].pct_change() * 100"
   ]
  },
  {
   "cell_type": "code",
   "execution_count": null,
   "id": "dc5d92f1",
   "metadata": {},
   "outputs": [],
   "source": [
    "# 创建带有双Y轴的子图\n",
    "fig = make_subplots(specs=[[{\"secondary_y\": True}]])"
   ]
  },
  {
   "cell_type": "code",
   "execution_count": null,
   "id": "c3abfabb",
   "metadata": {},
   "outputs": [],
   "source": [
    "# 添加中国实际GDP增长率折线到主Y轴\n",
    "fig.add_trace(\n",
    "    go.Scatter(\n",
    "        x=china_gdp['Year'],\n",
    "        y=china_gdp['China RGDP Growth'],\n",
    "        mode='lines',\n",
    "        name='China RGDP Growth',\n",
    "        line=dict(color='blue')\n",
    "    ),\n",
    "    secondary_y=False\n",
    ")"
   ]
  },
  {
   "cell_type": "code",
   "execution_count": null,
   "id": "df8bee1a",
   "metadata": {},
   "outputs": [],
   "source": [
    "# 添加美国实际GDP增长率折线到副Y轴\n",
    "fig.add_trace(\n",
    "    go.Scatter(\n",
    "        x=usa_gdp['Year'],\n",
    "        y=usa_gdp['US RGDP Growth'],\n",
    "        mode='lines',\n",
    "        name='US RGDP Growth',\n",
    "        line=dict(color='orange')\n",
    "    ),\n",
    "    secondary_y=True\n",
    ")"
   ]
  },
  {
   "cell_type": "code",
   "execution_count": null,
   "id": "afc72cb0",
   "metadata": {},
   "outputs": [],
   "source": [
    "fig.update_layout(\n",
    "    title='Comparison of Real GDP Growth Rates between China and the US',\n",
    "    xaxis_title='Year',\n",
    "    yaxis_title='Real GDP Growth Rate (%)',\n",
    "    yaxis2_title='Real GDP Growth Rate (%)',\n",
    "    legend=dict(x=0, y=1.0)\n",
    ")"
   ]
  },
  {
   "cell_type": "code",
   "execution_count": null,
   "id": "c6be50c1",
   "metadata": {},
   "outputs": [],
   "source": [
    "# 突出显示关键事件\n",
    "key_events = {'2008 Financial Crisis': 2008, 'COVID-19 Pandemic': 2020}\n",
    "for event, year in key_events.items():\n",
    "    fig.add_vline(x=year, line_width=2, line_dash=\"dash\", line_color=\"red\",\n",
    "                  annotation_text=event, annotation_position=\"top right\")"
   ]
  },
  {
   "cell_type": "code",
   "execution_count": null,
   "id": "7640adb0",
   "metadata": {
    "lines_to_next_cell": 2
   },
   "outputs": [],
   "source": [
    "fig.write_html('gdp_trend.html', auto_open=True)"
   ]
  }
 ],
 "metadata": {
  "jupytext": {
   "cell_metadata_filter": "-all",
   "main_language": "python",
   "notebook_metadata_filter": "-all"
  }
 },
 "nbformat": 4,
 "nbformat_minor": 5
}
